{
 "cells": [
  {
   "cell_type": "code",
   "execution_count": 83,
   "metadata": {
    "collapsed": false
   },
   "outputs": [
    {
     "name": "stdout",
     "output_type": "stream",
     "text": [
      "Root datasets directory path:  /Users/jeffshih/Desktop/Programming/DroneSegmentation/datasets/Okutama\n"
     ]
    }
   ],
   "source": [
    "from __future__ import print_function\n",
    "\n",
    "import matplotlib.pyplot as plt\n",
    "import numpy as np\n",
    "\n",
    "import os\n",
    "import sys\n",
    "import re\n",
    "import random\n",
    "import copy\n",
    "from shutil import copytree\n",
    "from PIL import Image\n",
    "\n",
    "\n",
    "from IPython.display import display, Image\n",
    "\n",
    "from scipy import ndimage\n",
    "from scipy.misc import imresize\n",
    "import cv2\n",
    "\n",
    "from six.moves.urllib.request import urlretrieve\n",
    "from six.moves import cPickle as pickle\n",
    "\n",
    "%matplotlib inline\n",
    "\n",
    "plt.xkcd()\n",
    "\n",
    "\"\"\"\n",
    "Set the parameter here, your root and the class you want to neglect.\n",
    "Classlist:\n",
    "Plants, Paved ground, Outdoor structures, Non-paved ground, Buildings, Wheeled Vehicles,\n",
    "People, Water, Train tracks.\n",
    "\"\"\"\n",
    "\n",
    "ROOT = '/Users/jeffshih/Desktop/Programming/DroneSegmentation/datasets/Okutama'\n",
    "global CLASSFLAG \n",
    "CLASSFLAG = 'People'\n",
    "global SUBFLAG\n",
    "SUBFLAG='Background'\n",
    "os.chdir(ROOT)\n",
    "print('Root datasets directory path: ', ROOT)\n",
    "\n"
   ]
  },
  {
   "cell_type": "code",
   "execution_count": 84,
   "metadata": {
    "collapsed": false
   },
   "outputs": [
    {
     "name": "stdout",
     "output_type": "stream",
     "text": [
      "3 0\n"
     ]
    }
   ],
   "source": [
    "\"\"\"\n",
    "Read in the class mapping and the certain class index\n",
    "\"\"\"\n",
    "\n",
    "def read_class_mapping(class_file,CLASSFLAG,SUBFLAG):\n",
    "    with open(class_file, 'r') as f:\n",
    "        class_mapping = {}\n",
    "        labels = []\n",
    "        for idx, line in enumerate(f):\n",
    "            labels.append(line.split(':')[1].strip(' \\t\\n\\r'))\n",
    "            class_mapping[labels[-1]] = idx\n",
    "        return labels.index(CLASSFLAG),labels.index(SUBFLAG)\n",
    "\n",
    "global classIndex \n",
    "global subIndex \n",
    "\n",
    "classIndex,subIndex = read_class_mapping(os.path.join(ROOT, 'Class_list.txt'),CLASSFLAG,SUBFLAG)\n",
    "\n",
    "\n",
    "\n",
    "print(classIndex,subIndex)\n",
    "\n"
   ]
  },
  {
   "cell_type": "code",
   "execution_count": 107,
   "metadata": {
    "collapsed": false
   },
   "outputs": [
    {
     "name": "stdout",
     "output_type": "stream",
     "text": [
      "[[  7.01912340e+07]\n",
      " [  2.01153930e+07]\n",
      " [  1.49937368e+08]\n",
      " [  1.64684024e+08]\n",
      " [  6.84986150e+07]\n",
      " [  4.45956800e+06]\n",
      " [  2.61451328e+08]\n",
      " [  5.91889600e+06]\n",
      " [  9.47522800e+06]\n",
      " [  5.87460000e+04]]\n",
      "[[  2.34875258e+08]\n",
      " [  2.01153930e+07]\n",
      " [  1.49937368e+08]\n",
      " [  0.00000000e+00]\n",
      " [  6.84986150e+07]\n",
      " [  4.45956800e+06]\n",
      " [  2.61451328e+08]\n",
      " [  5.91889600e+06]\n",
      " [  9.47522800e+06]\n",
      " [  5.87460000e+04]]\n"
     ]
    }
   ],
   "source": [
    "def create_gt_list(gt_folders):\n",
    "    imgs = []\n",
    "    for root,subdir,files in os.walk(gt_folders):\n",
    "            for filename in files:\n",
    "                imgs.append(filename)\n",
    "    return imgs\n",
    "\n",
    "def calc_class_hist(img):\n",
    "    return cv2.calcHist([img],[0],None,[10],[0,10])\n",
    "\n",
    "def replace_class(gtFolders,gtList):\n",
    "    histBefore = [0]\n",
    "    histAfter = [0]\n",
    "    for imgName in gtList:\n",
    "        imgPath = os.path.join(gtFolders,imgName)\n",
    "        img = cv2.imread(imgPath,cv2.IMREAD_GRAYSCALE)\n",
    "        histBefore = np.add(histBefore,calc_class_hist(img))\n",
    "        subImg = replace_class_img(img,classIndex,subIndex)\n",
    "        write_image(img,imgName)\n",
    "        histAfter = np.add(histAfter,calc_class_hist(subImg))\n",
    "    return histBefore,histAfter\n",
    "def replace_class_img(img,classIndex,subIndex):\n",
    "    img[img==classIndex]=subIndex\n",
    "    return img\n",
    "\n",
    "def write_image(img,imgName):\n",
    "    new_gt_dir = os.path.join(ROOT,'substitute_ground_truth')\n",
    "    new_gt_file = os.path.join(new_gt_dir,imgName)\n",
    "    #print(new_gt_file)\n",
    "    if not os.path.exists(new_gt_dir):\n",
    "        os.makedirs(new_gt_dir)\n",
    "    #cv2.imwrite(new_gt_file,img)\n",
    "\n",
    "    \n",
    "\n",
    "gtFolders = os.path.join(ROOT,'ground_truth')\n",
    "#print(gt_folders)\n",
    "gtList = create_gt_list(gtFolders)\n",
    "histBefore,histAfter = replace_class(gtFolders,gtList)\n",
    "\n",
    "print(histBefore)\n",
    "print(histAfter)\n",
    "#plt.hist(histAfter)\n",
    "\n",
    "\n",
    "new_gt_dir = os.path.join(ROOT,'substitute_ground_truth')\n",
    "\n",
    "\n",
    "\n"
   ]
  },
  {
   "cell_type": "code",
   "execution_count": null,
   "metadata": {
    "collapsed": true
   },
   "outputs": [],
   "source": []
  }
 ],
 "metadata": {
  "kernelspec": {
   "display_name": "Python 2",
   "language": "python",
   "name": "python2"
  },
  "language_info": {
   "codemirror_mode": {
    "name": "ipython",
    "version": 2
   },
   "file_extension": ".py",
   "mimetype": "text/x-python",
   "name": "python",
   "nbconvert_exporter": "python",
   "pygments_lexer": "ipython2",
   "version": "2.7.12"
  }
 },
 "nbformat": 4,
 "nbformat_minor": 2
}
